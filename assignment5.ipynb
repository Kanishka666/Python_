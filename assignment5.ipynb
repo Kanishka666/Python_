{
 "cells": [
  {
   "cell_type": "code",
   "execution_count": 4,
   "id": "0fc64206-0d11-47ed-862e-496ea4071954",
   "metadata": {},
   "outputs": [
    {
     "data": {
      "text/plain": [
       "(4, 'bike')"
      ]
     },
     "execution_count": 4,
     "metadata": {},
     "output_type": "execute_result"
    }
   ],
   "source": [
    "#Q1\n",
    "class vehicle:\n",
    "        \n",
    "    def __init__(self,name_of_vehicle,average_of_vehicle,max_speed ):\n",
    "        \n",
    "            self.name_of_vehicle = name_of_vehicle \n",
    "            self.average_of_vehicle =average_of_vehicle \n",
    "            self.max_speed= max_speed\n",
    "            \n",
    "    def return_values (self):\n",
    "        return self.name_of_vehicle , self.average_of_vehicle ,self.max_speed\n",
    "            \n",
    "obj_class= vehicle (\"bike\",50,20)\n",
    "obj_class.name_of_vehicle \n",
    "obj_class.return_values()\n",
    "\n",
    "\n",
    "\n",
    "\n",
    "\n",
    "\n",
    "\n",
    "#Q2\n",
    "class child_vehicle(vehicle):\n",
    "    def seating_capacity(self,capacity):\n",
    "        self.capacity =capacity \n",
    "        return self.capacity , self.name_of_vehicle\n",
    "obj_class2=child_vehicle(\"bike\",50,20)\n",
    "obj_class2.seating_capacity(4)"
   ]
  },
  {
   "cell_type": "code",
   "execution_count": 12,
   "id": "198cf268-f6fc-4aa1-bda5-33aba956d5ff",
   "metadata": {},
   "outputs": [
    {
     "data": {
      "text/plain": [
       "'This my first example '"
      ]
     },
     "execution_count": 12,
     "metadata": {},
     "output_type": "execute_result"
    }
   ],
   "source": [
    "#Q3\n",
    "#Multiple inheritance means that one class is inheriting the characteristics of other two or more class simultaneously.\n",
    "\n",
    "\n",
    "#eg:-\n",
    "\n",
    "class test1:\n",
    "    def test1(self):\n",
    "        return\"This my first example \"\n",
    "class test2:\n",
    "    def test2(self):\n",
    "        return\"This my second example \"\n",
    "class test3(test1, test2):\n",
    "    pass\n",
    "\n",
    "obj_test3 = test3()\n",
    "obj_test3.test2()\n",
    "obj_test3.test1()\n",
    "\n"
   ]
  },
  {
   "cell_type": "code",
   "execution_count": 17,
   "id": "7f04b655-7837-4b4f-9675-8726e67c02db",
   "metadata": {},
   "outputs": [
    {
     "data": {
      "text/plain": [
       "'kanishka'"
      ]
     },
     "execution_count": 17,
     "metadata": {},
     "output_type": "execute_result"
    }
   ],
   "source": [
    "#Q4 \n",
    "#Getter and Setter are the property decorators in python.Getter is used to get the encapsulated class variable,while Setter is used to set or modify the existing value of encapsulated class variable.\n",
    "\n",
    "\n",
    "#eg\n",
    "\n",
    "class student:\n",
    "    \n",
    "    def __init__(self , student_name , student_id ):\n",
    "        self.__student_name = student_name\n",
    "        self.student_id = student_id\n",
    "    @property \n",
    "    \n",
    "    def student_name_change(self):\n",
    "        return self.__student_name\n",
    "    \n",
    "    @student_name_change.setter\n",
    "    def student_name_set(self, name):\n",
    "        self.name =name\n",
    "        return self.name\n",
    " \n",
    "obj_stu = student(\"kanishka\",\"101\")\n",
    "\n"
   ]
  },
  {
   "cell_type": "code",
   "execution_count": 18,
   "id": "55207bb7-b9ee-4cb1-932f-dad9362d6005",
   "metadata": {},
   "outputs": [
    {
     "data": {
      "text/plain": [
       "'101'"
      ]
     },
     "execution_count": 18,
     "metadata": {},
     "output_type": "execute_result"
    }
   ],
   "source": [
    "obj_stu.student_id"
   ]
  },
  {
   "cell_type": "code",
   "execution_count": 19,
   "id": "beb47ed8-b26e-47e2-bf5e-4541b8a7b597",
   "metadata": {},
   "outputs": [
    {
     "data": {
      "text/plain": [
       "'kanishka'"
      ]
     },
     "execution_count": 19,
     "metadata": {},
     "output_type": "execute_result"
    }
   ],
   "source": [
    "obj_stu.student_name_change\n"
   ]
  },
  {
   "cell_type": "code",
   "execution_count": 24,
   "id": "d9ee5a51-c108-4c0a-8d10-197ef2d0854a",
   "metadata": {},
   "outputs": [
    {
     "data": {
      "text/plain": [
       "'kanishka'"
      ]
     },
     "execution_count": 24,
     "metadata": {},
     "output_type": "execute_result"
    }
   ],
   "source": [
    "obj_stu.student_name_set"
   ]
  },
  {
   "cell_type": "code",
   "execution_count": 32,
   "id": "b53e88d7-9039-4501-8a70-09a2630aedf0",
   "metadata": {},
   "outputs": [
    {
     "data": {
      "text/plain": [
       "'2000'"
      ]
     },
     "execution_count": 32,
     "metadata": {},
     "output_type": "execute_result"
    }
   ],
   "source": [
    "#Q5\n",
    "#class method is known as overriding method as it overrides the __init__(dundler).we can pass the parameters directly to the class without creartung an class object.\n",
    "\n",
    "\n",
    "#eg\n",
    "\n",
    "class mall:\n",
    "    \n",
    "    def __init__(self , no_of_items, total_price ):\n",
    "        self.no_of_items = no_of_items\n",
    "        self.total_price = total_price\n",
    "    \n",
    "    @classmethod\n",
    "    \n",
    "    def mall_details(cls, no_of_items, total_price):\n",
    "        return cls(no_of_items, total_price)\n",
    "    \n",
    "mall.mall_details(\"11\", \"2000\") \n",
    "obj_mall=mall.mall_details(\"11\", \"2000\") \n",
    "\n",
    "obj_mall.total_price"
   ]
  },
  {
   "cell_type": "code",
   "execution_count": 33,
   "id": "ce559326-797c-4c38-b3d0-54ae310e2052",
   "metadata": {},
   "outputs": [
    {
     "data": {
      "text/plain": [
       "'11'"
      ]
     },
     "execution_count": 33,
     "metadata": {},
     "output_type": "execute_result"
    }
   ],
   "source": [
    "obj_mall.no_of_items"
   ]
  }
 ],
 "metadata": {
  "kernelspec": {
   "display_name": "Python 3 (ipykernel)",
   "language": "python",
   "name": "python3"
  },
  "language_info": {
   "codemirror_mode": {
    "name": "ipython",
    "version": 3
   },
   "file_extension": ".py",
   "mimetype": "text/x-python",
   "name": "python",
   "nbconvert_exporter": "python",
   "pygments_lexer": "ipython3",
   "version": "3.10.8"
  }
 },
 "nbformat": 4,
 "nbformat_minor": 5
}
