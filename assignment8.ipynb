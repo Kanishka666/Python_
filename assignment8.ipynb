{
 "cells": [
  {
   "cell_type": "code",
   "execution_count": 8,
   "id": "ad8d410f-3299-475b-a6a6-a3d494980867",
   "metadata": {},
   "outputs": [],
   "source": [
    "#Q1\n",
    "#Exception is the super class in python that has a list of different types of errors in the class.\n",
    "# Syntax errors are the part of exception class. These types of error occur when there is a erroe in the class."
   ]
  },
  {
   "cell_type": "code",
   "execution_count": 8,
   "id": "3af28f60-1a96-488a-bb86-2343dfe72193",
   "metadata": {},
   "outputs": [],
   "source": [
    "#Q2\n",
    "#when an exception is not handled than our code crashes and whatever is written inside the except block is executed but whatever is written in the next line will be executed whether error will come or not.\n",
    "\n",
    "#eg\n",
    "\n",
    "import logging\n",
    "logging.basicConfig(filename= \"test1.log\" , level = logging.INFO)\n",
    "\n",
    "try:\n",
    "    a = 10\n",
    "    logging.info(\"this is my example{}\" .format(a))\n",
    "except TypeError as e:\n",
    "    logging.info(e)\n",
    "    \n",
    "logging.info(8+9)"
   ]
  },
  {
   "cell_type": "code",
   "execution_count": 12,
   "id": "a3538179-a89b-4c3d-9ad9-aa403194e22e",
   "metadata": {},
   "outputs": [],
   "source": [
    "#Q3\n",
    "# Try and Except functions are used to catch and handle the exceptions.\n",
    "\n",
    "#eg:-\n",
    "\n",
    "import logging\n",
    "logging.basicConfig(filename= \"test1.log\" , level = logging.INFO)\n",
    "\n",
    "try:\n",
    "    int(\"Kani\")\n",
    "except ValueError as e:\n",
    "    logging.info(\"This is how try and except work{}\".format(e))"
   ]
  },
  {
   "cell_type": "code",
   "execution_count": 14,
   "id": "19db7c3a-b1b5-41fd-8a20-7a43540ef767",
   "metadata": {},
   "outputs": [],
   "source": [
    "#Q4\n",
    "#a) TRY AND ELSE:- Try and else only work together if our code doesn't crash(no error)).\n",
    "\n",
    "import logging\n",
    "logging.basicConfig(filename= \"test1.log\" , level = logging.INFO)\n",
    "\n",
    "try:\n",
    "    a =6\n",
    "    b=5\n",
    "    logging.info(a+b)\n",
    "except ValueError as e:\n",
    "    logging.info(e)\n",
    "else:\n",
    "    logging.info(\"This is the example of try and else\")\n"
   ]
  },
  {
   "cell_type": "code",
   "execution_count": 5,
   "id": "a580ca21-d7a2-4cd9-a558-8564d15f6210",
   "metadata": {},
   "outputs": [],
   "source": [
    "#b)finally function will execute itself in every condition.\n",
    "# eg:-\n",
    "\n",
    "import logging\n",
    "logging.basicConfig(filename= \"test1.log\" , level = logging.INFO)\n",
    "\n",
    "try:\n",
    "    a =6\n",
    "    b= \"kani\"\n",
    "    logging.info(a+b)\n",
    "except TypeError as e:\n",
    "    logging.info(e)\n",
    "finally:\n",
    "    logging.info(\"This how finally work\")\n"
   ]
  },
  {
   "cell_type": "code",
   "execution_count": 4,
   "id": "a62df4dd-dd28-4b19-9870-4569ce8abb8d",
   "metadata": {},
   "outputs": [
    {
     "name": "stdin",
     "output_type": "stream",
     "text": [
      "enter marks:- -4\n"
     ]
    }
   ],
   "source": [
    "#c) raise function is used to throw exception.\n",
    "#eg\n",
    "import logging\n",
    "logging.basicConfig(filename= \"test1.log\" , level = logging.INFO)\n",
    "\n",
    "class Total_marks(Exception):\n",
    "    \n",
    "    def __init__(self , msg):\n",
    "        self.msg = msg\n",
    "\n",
    "def marks(marks):\n",
    "    if marks<0:\n",
    "        raise Total_marks(\"Marks cannot be negative\")\n",
    "        \n",
    "    elif marks > 100:\n",
    "        raise Total_marks(\"Total marks cannot be greater than 100\")\n",
    "    \n",
    "    else:\n",
    "        raise Total_marks(\"valid marks\")\n",
    "        \n",
    "try:\n",
    "    a = int(input(\"enter marks:-\"))\n",
    "    marks(a)\n",
    "    \n",
    "except Total_marks as e:\n",
    "    logging.info(e)"
   ]
  },
  {
   "cell_type": "code",
   "execution_count": 7,
   "id": "43b5220a-39de-4c1a-b874-b6b3ed44d6f8",
   "metadata": {},
   "outputs": [],
   "source": [
    "#Q5\n",
    "# Custom exception are the exception that are created by the user itself. These exceptions are created by the user as sometimes the written is correct accordind to the compiler but in contrast it may not be crorrect according to us.\n",
    "# eg :- IF we input age from the user as a int and the user input -1 . According to the compiler this value is correct as -1 ia s integer,but according to us it is not correct as age cannot be negative.\n"
   ]
  },
  {
   "cell_type": "code",
   "execution_count": 6,
   "id": "21b2c0c9-0349-45ae-919a-bdef88be04a0",
   "metadata": {},
   "outputs": [
    {
     "name": "stdin",
     "output_type": "stream",
     "text": [
      "enter age:- 234\n"
     ]
    }
   ],
   "source": [
    "#Q6\n",
    "import logging\n",
    "logging.basicConfig(filename= \"test1.log\" , level = logging.INFO)\n",
    "\n",
    "class correct_age(Exception):\n",
    "    \n",
    "    def __init__(self , msg):\n",
    "        self.msg = msg\n",
    "\n",
    "def valid_age(age):\n",
    "    if age<0:\n",
    "        raise correct_age(\"age cannot be negative\")\n",
    "        \n",
    "    elif age > 200:\n",
    "        raise correct_age(\"age cannot be greater than 200\")\n",
    "    \n",
    "    else:\n",
    "        raise correct_age(\"valid age\")\n",
    "        \n",
    "try:\n",
    "    a = int(input(\"enter age:-\"))\n",
    "    valid_age(a)\n",
    "    \n",
    "except correct_age as e:\n",
    "    logging.info(e)"
   ]
  },
  {
   "cell_type": "code",
   "execution_count": null,
   "id": "b40e417d-94a3-49ef-b48f-1103acb90902",
   "metadata": {},
   "outputs": [],
   "source": []
  }
 ],
 "metadata": {
  "kernelspec": {
   "display_name": "Python 3 (ipykernel)",
   "language": "python",
   "name": "python3"
  },
  "language_info": {
   "codemirror_mode": {
    "name": "ipython",
    "version": 3
   },
   "file_extension": ".py",
   "mimetype": "text/x-python",
   "name": "python",
   "nbconvert_exporter": "python",
   "pygments_lexer": "ipython3",
   "version": "3.10.8"
  }
 },
 "nbformat": 4,
 "nbformat_minor": 5
}
