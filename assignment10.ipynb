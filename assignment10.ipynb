{
 "cells": [
  {
   "cell_type": "code",
   "execution_count": null,
   "id": "f2cc7b13-2572-48a4-9e40-6d425b034f78",
   "metadata": {},
   "outputs": [],
   "source": [
    "#Q1\n",
    "''' The ability of a processor to execute multiple threads simultaneously is known as Multithreading.\n",
    "multithreading is used for easy , efficient and effective use of resources. It also causes reduction in time consumption.\n",
    "Threading module is used to handel threads in python.'''"
   ]
  },
  {
   "cell_type": "code",
   "execution_count": null,
   "id": "b4334dfc-0f48-48a3-b4b5-72edcb5c1c8c",
   "metadata": {},
   "outputs": [],
   "source": [
    "#Q2\n",
    "''' 1) Active count: - It basically count the number of active threads object.\n",
    "2)Current thread:- It basically return the number of objects that are under thread control.\n",
    "3)Enumerate:_ It basically give the list of thread objects that are active presently.'''"
   ]
  },
  {
   "cell_type": "code",
   "execution_count": null,
   "id": "fccd86be-6ffa-49b0-a2ca-a10b630c762f",
   "metadata": {},
   "outputs": [],
   "source": [
    "#Q3\n",
    "''' 1) Run() : - It execute the target function belonging to given thread object.\n",
    "2) Start () : - It starts the execution of threads.\n",
    "3) Join() :- It basically prevent the other thread object from running untill the previous one is not executed fully.\n",
    "4) isAlive() :- It basically checks whether the process is still active or not.'''"
   ]
  },
  {
   "cell_type": "code",
   "execution_count": 7,
   "id": "933fcd6a-6e98-4c49-a2e3-ff2b2d7272bf",
   "metadata": {},
   "outputs": [
    {
     "name": "stdout",
     "output_type": "stream",
     "text": [
      "Square of [1, 3, 6, 9] is 1\n",
      "Square of [1, 3, 6, 9] is 9\n",
      "Square of [1, 3, 6, 9] is 36\n",
      "Square of [1, 3, 6, 9] is 81\n",
      "cube of [1, 3, 6, 9] is 1\n",
      "cube of [1, 3, 6, 9] is 27\n",
      "cube of [1, 3, 6, 9] is 216\n",
      "cube of [1, 3, 6, 9] is 729\n"
     ]
    }
   ],
   "source": [
    "import threading \n",
    "\n",
    "def square_list(mylist):\n",
    "    for a in mylist:\n",
    "        square  = a*a\n",
    "        print(\"Square of {} is {}\" .format(mylist ,square ))\n",
    "    \n",
    "def cube_list(mylist):\n",
    "    for b in mylist:\n",
    "        cube = b*b*b\n",
    "        print(\"cube of {} is {}\" .format(mylist ,cube ))\n",
    "              \n",
    "              \n",
    "if __name__=='__main__':\n",
    "    mylist = [1,3,6,9]\n",
    "    p1 = threading.Thread(target=square_list , args=(mylist ,))\n",
    "    p2= threading.Thread(target=cube_list , args=(mylist ,))\n",
    "              \n",
    "p1.start()\n",
    "p1.join()\n",
    "p2.start()\n",
    "p2.join()              "
   ]
  },
  {
   "cell_type": "code",
   "execution_count": null,
   "id": "bc42fc0f-7668-4e68-b004-4276d77be8b0",
   "metadata": {},
   "outputs": [],
   "source": [
    "#Q5\n",
    "''' Advantages of multithreading:- \n",
    "1) it reduces the storage consumption\n",
    "2) it allows effective and fuller use of resources.\n",
    "3) since in the same core multiple threads are excecuted , performance of the code increases. \n",
    "4) moreover compilation time also reduces.\n",
    "\n",
    "\n",
    "Disadvantages of multithreading:- \n",
    "\n",
    "1) Code become difficult to debug and test.\n",
    "2) Difficulty in writing code.\n",
    "3) The data of threads should not be overlapping. '''"
   ]
  },
  {
   "cell_type": "code",
   "execution_count": null,
   "id": "a10a96e9-98d9-4de0-be64-7182c0d7a441",
   "metadata": {},
   "outputs": [],
   "source": [
    "#Q6\n",
    "''' Race conditions: Such conditions occurs when two or more thread access the shared piece of data and recources which causes overlapping of threads.\n",
    "Deadlocks : It is a condition in which the program becomes frozen as the thread or threads wait for a condition that never occur'''"
   ]
  }
 ],
 "metadata": {
  "kernelspec": {
   "display_name": "Python 3 (ipykernel)",
   "language": "python",
   "name": "python3"
  },
  "language_info": {
   "codemirror_mode": {
    "name": "ipython",
    "version": 3
   },
   "file_extension": ".py",
   "mimetype": "text/x-python",
   "name": "python",
   "nbconvert_exporter": "python",
   "pygments_lexer": "ipython3",
   "version": "3.10.8"
  }
 },
 "nbformat": 4,
 "nbformat_minor": 5
}
