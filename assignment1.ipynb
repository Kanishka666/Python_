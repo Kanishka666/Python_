{
 "cells": [
  {
   "cell_type": "code",
   "execution_count": null,
   "id": "99c36de6-7d37-43a8-8c3f-53becf38ade4",
   "metadata": {},
   "outputs": [],
   "source": [
    "# Q1"
   ]
  },
  {
   "cell_type": "code",
   "execution_count": 4,
   "id": "3cfcd580-09e8-48e2-b888-c421fd7f87c0",
   "metadata": {},
   "outputs": [
    {
     "name": "stdout",
     "output_type": "stream",
     "text": [
      "Kanishka\n"
     ]
    }
   ],
   "source": [
    "a = \"Kanishka\"\n",
    "print(a)"
   ]
  },
  {
   "cell_type": "code",
   "execution_count": 3,
   "id": "dfc1be91-5743-40b3-be48-31dda878b2ca",
   "metadata": {},
   "outputs": [
    {
     "name": "stdout",
     "output_type": "stream",
     "text": [
      "['apple', 'labs', 1234, (7+6j)]\n"
     ]
    }
   ],
   "source": [
    "b= [\"apple\" , \"labs\" , 1234 , 7+6j ]\n",
    "print(b)"
   ]
  },
  {
   "cell_type": "code",
   "execution_count": 2,
   "id": "6ae7417e-7e7b-44f0-8628-575a14b58ca3",
   "metadata": {},
   "outputs": [
    {
     "name": "stdout",
     "output_type": "stream",
     "text": [
      "93.4\n"
     ]
    }
   ],
   "source": [
    "c= 93.4\n",
    "print(c)"
   ]
  },
  {
   "cell_type": "code",
   "execution_count": 1,
   "id": "90b7a58f-65a3-4e2c-8873-d0c0fb0a32f7",
   "metadata": {},
   "outputs": [
    {
     "name": "stdout",
     "output_type": "stream",
     "text": [
      "(45, 'zoo', 'chess', 89.675)\n"
     ]
    }
   ],
   "source": [
    "d= (45 , \"zoo\" , \"chess\" , 89.675 )\n",
    "print(d)"
   ]
  },
  {
   "cell_type": "code",
   "execution_count": null,
   "id": "86d00649-7496-42f0-accf-5edb74567fab",
   "metadata": {},
   "outputs": [],
   "source": []
  },
  {
   "cell_type": "code",
   "execution_count": 5,
   "id": "024f287e-5048-44df-8e97-d9d0e3609c82",
   "metadata": {},
   "outputs": [],
   "source": [
    "# Q2"
   ]
  },
  {
   "cell_type": "code",
   "execution_count": 6,
   "id": "2765d0ff-19a9-4476-9899-02af49d4fb81",
   "metadata": {},
   "outputs": [],
   "source": [
    "# 1) var1 = ''  ==== 'str'"
   ]
  },
  {
   "cell_type": "code",
   "execution_count": 7,
   "id": "fd9127d2-eaa7-4b79-8465-ac5d34c4a3e7",
   "metadata": {},
   "outputs": [],
   "source": [
    "# 2) var2 = '[DS, ML, Python]' ===== 'str'"
   ]
  },
  {
   "cell_type": "code",
   "execution_count": 8,
   "id": "629f3cd5-7b0a-4241-819f-4dd654633e2f",
   "metadata": {},
   "outputs": [],
   "source": [
    "# 3) var3 = ['DS' , 'ML', 'Python']====== list"
   ]
  },
  {
   "cell_type": "code",
   "execution_count": 9,
   "id": "c0c37c07-7118-42e9-8425-f7f31712d885",
   "metadata": {},
   "outputs": [],
   "source": [
    "# 4) var4 = 1 ===== int"
   ]
  },
  {
   "cell_type": "code",
   "execution_count": null,
   "id": "8148a64a-7960-4f93-90d1-1318c80af4ac",
   "metadata": {},
   "outputs": [],
   "source": []
  },
  {
   "cell_type": "code",
   "execution_count": 10,
   "id": "c6a799e6-4a6f-4578-af13-94a03de9b5b8",
   "metadata": {},
   "outputs": [],
   "source": [
    "#Q3"
   ]
  },
  {
   "cell_type": "code",
   "execution_count": 11,
   "id": "edb35f40-36a9-4de4-806d-fbaeb1f95cc2",
   "metadata": {},
   "outputs": [
    {
     "name": "stdout",
     "output_type": "stream",
     "text": [
      "2.0\n"
     ]
    }
   ],
   "source": [
    "# 1) / This arithemetic operator is used  for normal division and the result is always is of float data type. eg:\n",
    "a= 6\n",
    "b=12\n",
    "print(b/a)"
   ]
  },
  {
   "cell_type": "code",
   "execution_count": 12,
   "id": "4c1701bf-8b60-4f28-9e5c-bda2b4eb6872",
   "metadata": {},
   "outputs": [
    {
     "name": "stdout",
     "output_type": "stream",
     "text": [
      "0\n"
     ]
    }
   ],
   "source": [
    "# 2) Modulus operator (%) is also used for division ,  but it gives remainder as an aanswer. eg:\n",
    "a= 6\n",
    "b=12\n",
    "print(b%a)"
   ]
  },
  {
   "cell_type": "code",
   "execution_count": 13,
   "id": "6c6db7ca-cdcf-455e-8fd5-df94040092a9",
   "metadata": {},
   "outputs": [
    {
     "name": "stdout",
     "output_type": "stream",
     "text": [
      "2\n"
     ]
    }
   ],
   "source": [
    "# 3) Floor operator(//) is too used for division like modulus operator , but the result is always quotient. eg :\n",
    "a= 6\n",
    "b=12\n",
    "print(b//a)"
   ]
  },
  {
   "cell_type": "code",
   "execution_count": 14,
   "id": "3e6492ee-8258-428f-87a6-e7008891d437",
   "metadata": {},
   "outputs": [
    {
     "name": "stdout",
     "output_type": "stream",
     "text": [
      "16\n"
     ]
    }
   ],
   "source": [
    "# 4) Power operator( ** )It is used for doing exponential problems. eg :\n",
    "c= 2\n",
    "d=4\n",
    "print(c**d)"
   ]
  },
  {
   "cell_type": "code",
   "execution_count": null,
   "id": "8fecaafd-c903-4d28-8af7-2ce35997b3f3",
   "metadata": {},
   "outputs": [],
   "source": []
  },
  {
   "cell_type": "code",
   "execution_count": 15,
   "id": "a472b32c-82f2-43b7-ad88-cf82484f6338",
   "metadata": {},
   "outputs": [],
   "source": [
    "#Q4"
   ]
  },
  {
   "cell_type": "code",
   "execution_count": 16,
   "id": "f512e964-4d99-48a7-ae6a-30723b197c3c",
   "metadata": {},
   "outputs": [
    {
     "name": "stdout",
     "output_type": "stream",
     "text": [
      "classmate\n",
      "<class 'str'>\n",
      "34\n",
      "<class 'int'>\n",
      "(67+8j)\n",
      "<class 'complex'>\n",
      "gmail\n",
      "<class 'str'>\n",
      " a\n",
      "<class 'str'>\n",
      "n\n",
      "<class 'str'>\n",
      "c\n",
      "<class 'str'>\n",
      "j\n",
      "<class 'str'>\n",
      "tiger\n",
      "<class 'str'>\n",
      "gupta\n",
      "<class 'str'>\n"
     ]
    }
   ],
   "source": [
    "val= [\"classmate\", 34 ,67+8j , \"gmail\" ,' a' ,'n' ,'c', 'j' , \"tiger\", \"gupta\"]\n",
    "for i in val:\n",
    "  print(i)\n",
    "  print(type(i))"
   ]
  },
  {
   "cell_type": "code",
   "execution_count": null,
   "id": "93580cac-6ce4-4993-bba9-7d3e21eea935",
   "metadata": {},
   "outputs": [],
   "source": []
  },
  {
   "cell_type": "code",
   "execution_count": 17,
   "id": "d897f738-3d6d-4967-8a83-2bd6348455fa",
   "metadata": {},
   "outputs": [],
   "source": [
    "#Q5"
   ]
  },
  {
   "cell_type": "code",
   "execution_count": 10,
   "id": "9a97a961-97f6-4124-828e-251ec239b0f8",
   "metadata": {},
   "outputs": [
    {
     "name": "stdin",
     "output_type": "stream",
     "text": [
      "Enter the first no: 4\n",
      "Enter the second  no: 2\n"
     ]
    },
    {
     "name": "stdout",
     "output_type": "stream",
     "text": [
      "Yes 4 is purely divisible by 2\n",
      "It divisible by  2 no. of times\n"
     ]
    }
   ],
   "source": [
    "a= int (input(\"Enter the first no:\"))\n",
    "b = int (input(\"Enter the second  no:\"))\n",
    "if a%b == 0 :\n",
    "    print (\"Yes\" , a  ,\"is purely divisible by\" , b)\n",
    "else :\n",
    "    print (\" No\" , a  ,\"is purely divisible by\" , b)\n",
    "c = a//b\n",
    "print( \"It divisible by \" ,c , \"no. of times\")\n"
   ]
  },
  {
   "cell_type": "code",
   "execution_count": null,
   "id": "f64465a7-d9f1-445d-8bb5-db96d8a87f58",
   "metadata": {},
   "outputs": [],
   "source": [
    "#Q6"
   ]
  },
  {
   "cell_type": "code",
   "execution_count": 8,
   "id": "358507c0-268c-41eb-85ce-8802ce2dc10c",
   "metadata": {},
   "outputs": [
    {
     "name": "stdout",
     "output_type": "stream",
     "text": [
      "[25] is not divisible by 3\n"
     ]
    }
   ],
   "source": [
    "h = [25]\n",
    "while h[0] % 3 == 0: \n",
    "    print (h , \"is divisible by 3\")\n",
    "    \n",
    "    \n",
    "if  25% 3 == 0:\n",
    "    print (h , \"is divisible by 3\")\n",
    "else :\n",
    "    print (h , \"is not divisible by 3\")"
   ]
  },
  {
   "cell_type": "code",
   "execution_count": 1,
   "id": "b8a58b54-b53b-4318-8d6b-69725d7960d2",
   "metadata": {},
   "outputs": [],
   "source": [
    "#Q7"
   ]
  },
  {
   "cell_type": "code",
   "execution_count": null,
   "id": "493aff76-d595-49c2-b5a7-9ef68e4d7734",
   "metadata": {},
   "outputs": [],
   "source": []
  },
  {
   "cell_type": "code",
   "execution_count": 2,
   "id": "903ceda3-0386-4f01-b670-61724d616c93",
   "metadata": {},
   "outputs": [
    {
     "data": {
      "text/plain": [
       "' MUTABLE DATA TYPE :\\nmutable data type are those data type that can be modified , appended and deleted  in the existing statement . No new statement is created .\\neg : LIST\\n\\nIMMUTABLE DATA TYPE :\\nmutable data type are those data type that cannot be modified , appended and deleted  in the existing statement . New statement is created to perform such tasks.\\neg : STRING , TUPLES  '"
      ]
     },
     "execution_count": 2,
     "metadata": {},
     "output_type": "execute_result"
    }
   ],
   "source": [
    "\"\"\" MUTABLE DATA TYPE :\n",
    "mutable data type are those data type that can be modified , appended and deleted  in the existing statement . No new statement is created .\n",
    "eg : LIST\n",
    "\n",
    "IMMUTABLE DATA TYPE :\n",
    "mutable data type are those data type that cannot be modified , appended and deleted  in the existing statement . New statement is created to perform such tasks.\n",
    "eg : STRING , TUPLES  \"\"\""
   ]
  },
  {
   "cell_type": "code",
   "execution_count": null,
   "id": "114ce6e6-3971-437b-b8bd-ba5b647136a4",
   "metadata": {},
   "outputs": [],
   "source": []
  },
  {
   "cell_type": "code",
   "execution_count": null,
   "id": "ce525833-a21d-4da7-bfa5-aa7c96f315ec",
   "metadata": {},
   "outputs": [],
   "source": []
  },
  {
   "cell_type": "code",
   "execution_count": null,
   "id": "667dae8b-4d98-4b92-8504-26779c4988e6",
   "metadata": {},
   "outputs": [],
   "source": []
  },
  {
   "cell_type": "code",
   "execution_count": null,
   "id": "d96b9581-d1c1-4bd6-8fcc-00ec046f5028",
   "metadata": {},
   "outputs": [],
   "source": []
  },
  {
   "cell_type": "code",
   "execution_count": null,
   "id": "ff3a763c-39e9-4d93-b084-d92ae786cf01",
   "metadata": {},
   "outputs": [],
   "source": []
  }
 ],
 "metadata": {
  "kernelspec": {
   "display_name": "Python 3 (ipykernel)",
   "language": "python",
   "name": "python3"
  },
  "language_info": {
   "codemirror_mode": {
    "name": "ipython",
    "version": 3
   },
   "file_extension": ".py",
   "mimetype": "text/x-python",
   "name": "python",
   "nbconvert_exporter": "python",
   "pygments_lexer": "ipython3",
   "version": "3.10.8"
  }
 },
 "nbformat": 4,
 "nbformat_minor": 5
}
