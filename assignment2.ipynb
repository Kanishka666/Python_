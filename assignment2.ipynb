{
 "cells": [
  {
   "cell_type": "code",
   "execution_count": 5,
   "id": "c38c3360-c242-4f4b-8c5f-126f2e239804",
   "metadata": {},
   "outputs": [],
   "source": [
    "# Q1\n",
    "# Comments are the non executable lines. It is the  additional information given by the user to the source code to make the program more informative\n",
    "# TYPES:\n",
    "# single line comments: (#) it is used to commnet single line.\n",
    "# multiple line comments: ('''' ''') it is used to comment multiple lines."
   ]
  },
  {
   "cell_type": "code",
   "execution_count": 9,
   "id": "31226354-2a54-46cf-afb4-f27492dc74b8",
   "metadata": {},
   "outputs": [
    {
     "data": {
      "text/plain": [
       "' variables or identifiers are the user defined words that are used to store a value.\\na = 7\\nTo declare a variable :\\n1. The first character should be either a alphabet or underscore(_)\\n2. No special character can be used except underscore(_)\\n3. python is a case sensitive language i.e. it differentiate between uppercas and lowercase letters.\\n4. combinations of digit , alphabate  and underscore. '"
      ]
     },
     "execution_count": 9,
     "metadata": {},
     "output_type": "execute_result"
    }
   ],
   "source": [
    "#Q 2 \n",
    "''' variables or identifiers are the user defined words that are used to store a value.\n",
    "a = 7\n",
    "To declare a variable :\n",
    "1. The first character should be either a alphabet or underscore(_)\n",
    "2. No special character can be used except underscore(_)\n",
    "3. python is a case sensitive language i.e. it differentiate between uppercas and lowercase letters.\n",
    "4. combinations of digit , alphabate  and underscore. '''"
   ]
  },
  {
   "cell_type": "code",
   "execution_count": 7,
   "id": "d587da26-fcb2-465a-8c71-c5875f1e5c28",
   "metadata": {},
   "outputs": [
    {
     "name": "stdout",
     "output_type": "stream",
     "text": [
      "<class 'int'>\n",
      "<class 'float'>\n"
     ]
    }
   ],
   "source": [
    "# Q3 \n",
    "#dynamic typing :- Python support dynamic typing . It is method by which a variable pointing to a specific data type can be change to point the value of different  data type .\n",
    "#eg :\n",
    "a= 6\n",
    "print (type(a))\n",
    "a = 10.6\n",
    "print(type(a))"
   ]
  },
  {
   "cell_type": "code",
   "execution_count": null,
   "id": "f3702114-17c5-4325-97d1-6dedcf81e6ac",
   "metadata": {},
   "outputs": [],
   "source": [
    "#Q4 \n",
    "#we can write python script using python command. it can written as:\n",
    "# command line + python + scriptfile + whatever we want to write\n",
    "# eg : python first_script.py hii"
   ]
  },
  {
   "cell_type": "code",
   "execution_count": 14,
   "id": "a03e7296-cfd4-4de1-bf17-77203f49c5b3",
   "metadata": {},
   "outputs": [
    {
     "name": "stdout",
     "output_type": "stream",
     "text": [
      "[2, 3]\n"
     ]
    }
   ],
   "source": [
    "#Q5\n",
    "my_list = [1,2,3,4,5]\n",
    "print(my_list[1 : 3])"
   ]
  },
  {
   "cell_type": "code",
   "execution_count": null,
   "id": "427c04da-0171-40ea-896c-21439140b16e",
   "metadata": {},
   "outputs": [],
   "source": [
    "#Q6\n",
    "#complex number in mathematics is reprensented as a + bi. In python it is represented as a + bj. \n"
   ]
  },
  {
   "cell_type": "code",
   "execution_count": 1,
   "id": "98c96250-3e8f-42be-81af-2eaa39cf443a",
   "metadata": {},
   "outputs": [
    {
     "name": "stdout",
     "output_type": "stream",
     "text": [
      "25\n"
     ]
    }
   ],
   "source": [
    "#Q7\n",
    "age = 25\n",
    "print (age)"
   ]
  },
  {
   "cell_type": "code",
   "execution_count": 2,
   "id": "06bc72c5-82c0-4be1-8799-cfe8d0372439",
   "metadata": {},
   "outputs": [
    {
     "data": {
      "text/plain": [
       "float"
      ]
     },
     "execution_count": 2,
     "metadata": {},
     "output_type": "execute_result"
    }
   ],
   "source": [
    "#Q8\n",
    "price = 9.99\n",
    "type(price)"
   ]
  },
  {
   "cell_type": "code",
   "execution_count": 3,
   "id": "b9a23d96-4934-4fd2-a279-29645aadd8b1",
   "metadata": {},
   "outputs": [
    {
     "name": "stdout",
     "output_type": "stream",
     "text": [
      "Kanishka Gupta\n"
     ]
    }
   ],
   "source": [
    "#Q9\n",
    "name = \"Kanishka Gupta\"\n",
    "print(name)"
   ]
  },
  {
   "cell_type": "code",
   "execution_count": 4,
   "id": "c5b96f50-50d3-4205-b10d-f34555caf878",
   "metadata": {},
   "outputs": [
    {
     "name": "stdout",
     "output_type": "stream",
     "text": [
      "World\n"
     ]
    }
   ],
   "source": [
    "#Q10\n",
    "a = \"Hello World\"\n",
    "print(a[6 : 11])"
   ]
  },
  {
   "cell_type": "code",
   "execution_count": 8,
   "id": "502c903a-c369-4341-b3af-90cb8007d06f",
   "metadata": {},
   "outputs": [
    {
     "name": "stdin",
     "output_type": "stream",
     "text": [
      "Enter T= student And F = not student T\n"
     ]
    },
    {
     "name": "stdout",
     "output_type": "stream",
     "text": [
      "Yes, it is a student\n"
     ]
    }
   ],
   "source": [
    "#Q11\n",
    "is_student = (input(\"Enter T= student And F = not student\"))\n",
    "if is_student == 'T':\n",
    "   print(\"Yes, it is a student\")\n",
    "elif is_student == 'F':\n",
    "   print(\"No, it is not  a student\")\n",
    "else:\n",
    "    print(\"invalid\")"
   ]
  }
 ],
 "metadata": {
  "kernelspec": {
   "display_name": "Python 3 (ipykernel)",
   "language": "python",
   "name": "python3"
  },
  "language_info": {
   "codemirror_mode": {
    "name": "ipython",
    "version": 3
   },
   "file_extension": ".py",
   "mimetype": "text/x-python",
   "name": "python",
   "nbconvert_exporter": "python",
   "pygments_lexer": "ipython3",
   "version": "3.10.8"
  }
 },
 "nbformat": 4,
 "nbformat_minor": 5
}
