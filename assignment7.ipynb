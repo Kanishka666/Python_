{
 "cells": [
  {
   "cell_type": "code",
   "execution_count": 4,
   "id": "369f33ce-0cdf-4ca0-8cfc-5416b2ec5c9c",
   "metadata": {},
   "outputs": [
    {
     "name": "stdout",
     "output_type": "stream",
     "text": [
      "This is abstraction \n"
     ]
    }
   ],
   "source": [
    "#Q1\n",
    "#Abstraction is one of the important pillar of oops . When the  skeleton created by user is inherited by another class and user has the freedom to change the definition or functionality of a particular function according to its desire is known as abstraction.\n",
    "\n",
    "#eg\n",
    "import abc\n",
    "class test1:\n",
    "   \n",
    "    @abc.abstractmethod \n",
    "    def check1(self):\n",
    "        pass\n",
    "\n",
    "class test2(test1):\n",
    "    \n",
    "    def check1(self):\n",
    "        print(\"This is abstraction \")\n",
    "    \n",
    "a = test2()\n",
    "a.check1()\n",
    "\n",
    "    "
   ]
  },
  {
   "cell_type": "code",
   "execution_count": 1,
   "id": "52dff4fe-a63a-4118-a39c-07f1119d8d76",
   "metadata": {},
   "outputs": [
    {
     "name": "stdout",
     "output_type": "stream",
     "text": [
      "-4\n"
     ]
    },
    {
     "data": {
      "text/plain": [
       "'Kanishka'"
      ]
     },
     "execution_count": 1,
     "metadata": {},
     "output_type": "execute_result"
    }
   ],
   "source": [
    "# Q 2\n",
    "#Abstraction means that a class has inherited the blueprint of another class and we have to freedom to define its definition according to our dire.\n",
    "# Encapsulation means that we are hiding the instances from the user to see and modify the valuse of it.\n",
    "\n",
    "\n",
    "#eg:- ABSTRACTION \n",
    "\n",
    "import abc\n",
    "class test1:\n",
    "    @abc.abstractmethod \n",
    "    def show(self):\n",
    "        print(4+8)\n",
    "class test2(test1):\n",
    "    def show(self):\n",
    "        print(4-8)\n",
    "        \n",
    "a = test2()\n",
    "a.show()\n",
    "\n",
    "\n",
    "#ENCAPSULATION:-\n",
    "\n",
    "class test:\n",
    "    def __init__(self , name , age):\n",
    "        self.__name = name\n",
    "        self.age = age\n",
    "    def name(self):\n",
    "        return self.__name\n",
    "b= test(\"Kanishka\", \"17\")\n",
    "b.name()"
   ]
  },
  {
   "cell_type": "code",
   "execution_count": null,
   "id": "97bfd1a9-1d95-4af5-b498-0a44fe6cc4bf",
   "metadata": {},
   "outputs": [],
   "source": [
    "#Q3\n",
    "# ABC module is the Abstract Based Class . It has certain tools in it that helps to abstract a class. Without importing abc module in our class we can not abstract the class."
   ]
  },
  {
   "cell_type": "code",
   "execution_count": null,
   "id": "dde79844-732b-4aa4-9f9e-ddcdd24c475c",
   "metadata": {},
   "outputs": [],
   "source": [
    "#Q4\n",
    "#We can achieve data abstraction when we import abc module in our code and use @abc.abstractmethod before the  fuction that we want to abstract."
   ]
  },
  {
   "cell_type": "code",
   "execution_count": null,
   "id": "6a255926-1093-4e52-be24-e035e2cb0680",
   "metadata": {},
   "outputs": [],
   "source": [
    "#Q5\n",
    "# Before creating an instance for an abstract class , first we have to create a class that will inherit the blueprint of abstract class.Than we have to create an instance or object of new class."
   ]
  }
 ],
 "metadata": {
  "kernelspec": {
   "display_name": "Python 3 (ipykernel)",
   "language": "python",
   "name": "python3"
  },
  "language_info": {
   "codemirror_mode": {
    "name": "ipython",
    "version": 3
   },
   "file_extension": ".py",
   "mimetype": "text/x-python",
   "name": "python",
   "nbconvert_exporter": "python",
   "pygments_lexer": "ipython3",
   "version": "3.10.8"
  }
 },
 "nbformat": 4,
 "nbformat_minor": 5
}
