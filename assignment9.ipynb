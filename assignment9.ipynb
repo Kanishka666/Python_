{
 "cells": [
  {
   "cell_type": "code",
   "execution_count": null,
   "id": "c3179739-7607-4f07-a873-bb849d47503f",
   "metadata": {},
   "outputs": [],
   "source": [
    "#Q1\n",
    "# Exception class is the super class . It contains the list of all the types of error that can come in our program. Because of thi only,we need to inherit ustom class"
   ]
  },
  {
   "cell_type": "code",
   "execution_count": 1,
   "id": "70ec5f21-564a-408f-bff2-0c939fd4b603",
   "metadata": {},
   "outputs": [
    {
     "data": {
      "text/plain": [
       "['__cause__',\n",
       " '__class__',\n",
       " '__context__',\n",
       " '__delattr__',\n",
       " '__dict__',\n",
       " '__dir__',\n",
       " '__doc__',\n",
       " '__eq__',\n",
       " '__format__',\n",
       " '__ge__',\n",
       " '__getattribute__',\n",
       " '__gt__',\n",
       " '__hash__',\n",
       " '__init__',\n",
       " '__init_subclass__',\n",
       " '__le__',\n",
       " '__lt__',\n",
       " '__ne__',\n",
       " '__new__',\n",
       " '__reduce__',\n",
       " '__reduce_ex__',\n",
       " '__repr__',\n",
       " '__setattr__',\n",
       " '__setstate__',\n",
       " '__sizeof__',\n",
       " '__str__',\n",
       " '__subclasshook__',\n",
       " '__suppress_context__',\n",
       " '__traceback__',\n",
       " 'args',\n",
       " 'with_traceback']"
      ]
     },
     "execution_count": 1,
     "metadata": {},
     "output_type": "execute_result"
    }
   ],
   "source": [
    "#Q2\n",
    "dir(Exception)"
   ]
  },
  {
   "cell_type": "code",
   "execution_count": 4,
   "id": "43525dfa-3d83-418c-a6a5-058f5c152298",
   "metadata": {},
   "outputs": [],
   "source": [
    "# Q3  \n",
    "# Arithmetic error are those error that occur when there is any  arithmetic or calculation problem.\n",
    "\n",
    "\n",
    "\n",
    "import logging\n",
    "logging.basicConfig(filename= \"test1.log\" , level = logging.INFO)\n",
    "\n",
    "\n",
    "#eg1\n",
    "try :\n",
    "    a = 10\n",
    "    b= \"kani\"\n",
    "except TypeError as e:\n",
    "    logging.info(\"This is arithemetic error \".format(e))\n",
    "\n",
    "    \n",
    "#eg2\n",
    "try:\n",
    "    10/0\n",
    "except ZeroDivisionError as e:\n",
    "    logging.info(\"This is arithemetic error \".format(e))"
   ]
  },
  {
   "cell_type": "code",
   "execution_count": 6,
   "id": "6d6b0010-701d-48e0-b2c7-0ac66bd8157b",
   "metadata": {},
   "outputs": [],
   "source": [
    "#Q4\n",
    "#look up errors are those that occur due to wrong index or called value is missing\n",
    "\n",
    "\n",
    "import logging\n",
    "logging.basicConfig(filename= \"test1.log\" , level = logging.INFO)\n",
    "#eg1:_\n",
    "\n",
    "d ={\"jan\" : 3 , \"feb\": 4}\n",
    "try:\n",
    "    logging.info(d[\"mar\"])\n",
    "except KeyError as e:\n",
    "    logging.info(\"This is the example of lookuperreor{}\".format(e))\n",
    "    \n",
    "#eg2:_\n",
    "l =[1,2,3,4]\n",
    "try:\n",
    "    logging.info(l[5])\n",
    "except IndexError as e:\n",
    "    logging.info(\"This is the example of lookuperreor{}\".format(e))"
   ]
  },
  {
   "cell_type": "code",
   "execution_count": 10,
   "id": "36c886fd-f3db-4267-9416-ada1bfb8d6db",
   "metadata": {},
   "outputs": [],
   "source": [
    "#Q5\n",
    "# import error are those errors that occur when we are trying to raed or write in a file that is not present .\n",
    "# module error are those are that occur when we try to import a module that has no value.\n",
    "\n",
    "\n",
    "#eg of import error:_\n",
    "\n",
    "\n",
    "import logging\n",
    "logging.basicConfig(filename= \"test1.log\" , level = logging.INFO)\n",
    "\n",
    "try:\n",
    "    with open(\"text.txt\" , 'r')as f:\n",
    "        logging.info(f.read())\n",
    "except FileNotFoundError as e:\n",
    "          logging.info(\"This is the example of import error{}\".format(e))           \n",
    "                     \n",
    "# eg of module erroe:_\n",
    "                     \n",
    "try:\n",
    "     import kanu\n",
    "except ImportError as e:\n",
    "          logging.info(\"This is the example of import error{}\".format(e))           \n",
    "                                "
   ]
  },
  {
   "cell_type": "code",
   "execution_count": null,
   "id": "598b24a3-619b-46b3-a1e7-ef78d0a4bd1d",
   "metadata": {},
   "outputs": [],
   "source": [
    "#Q6\n",
    "# best practices for file exception handling are :\n",
    "''' 1) always write specific error only.\n",
    "2) always clean up all the resources\n",
    "3) always use logging instead of print\n",
    "4)always print a proper message\n",
    "'''"
   ]
  }
 ],
 "metadata": {
  "kernelspec": {
   "display_name": "Python 3 (ipykernel)",
   "language": "python",
   "name": "python3"
  },
  "language_info": {
   "codemirror_mode": {
    "name": "ipython",
    "version": 3
   },
   "file_extension": ".py",
   "mimetype": "text/x-python",
   "name": "python",
   "nbconvert_exporter": "python",
   "pygments_lexer": "ipython3",
   "version": "3.10.8"
  }
 },
 "nbformat": 4,
 "nbformat_minor": 5
}
