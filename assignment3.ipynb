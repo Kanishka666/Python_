{
 "cells": [
  {
   "cell_type": "code",
   "execution_count": 15,
   "id": "2464fcdf-382d-429d-a0ad-dbee867c22bd",
   "metadata": {},
   "outputs": [
    {
     "name": "stdout",
     "output_type": "stream",
     "text": [
      "1\n",
      "3\n",
      "5\n",
      "7\n",
      "9\n"
     ]
    }
   ],
   "source": [
    "# Q1 \n",
    "#def keyword is used to create a function\n",
    "def odd_num(n):\n",
    "  for i in range(n):\n",
    "    if i % 2 != 0:\n",
    "      yield  i\n",
    "a= odd_num(25)\n",
    "print(next(a))\n",
    "print(next(a))\n",
    "print(next(a))\n",
    "print(next(a))\n",
    "print(next(a))"
   ]
  },
  {
   "cell_type": "code",
   "execution_count": 26,
   "id": "40d8469d-8c3c-4fc0-9ce9-3daac9e7a11f",
   "metadata": {},
   "outputs": [
    {
     "name": "stdout",
     "output_type": "stream",
     "text": [
      "(6,)\n",
      "{}\n"
     ]
    }
   ],
   "source": [
    "#Q2 \n",
    "'''  *arg :- It is used to add multiple arguments in a function without specifying number of paramaters  and the return data type is tuple.\n",
    "      ** kwargs :- It is used to add multiple arguments in a form of key: value format without specifying number of paramaters  . Its return data type is dictionary '''\n",
    "#eg :-\n",
    "def demo1(*args):\n",
    "    return args\n",
    "a = demo1(6)\n",
    "print(a)\n",
    "def demo2(**kwargs):\n",
    "    return kwargs\n",
    "b = demo2()\n",
    "print(b)"
   ]
  },
  {
   "cell_type": "code",
   "execution_count": 59,
   "id": "5972daf7-d799-4288-b0c9-883b45c467ac",
   "metadata": {},
   "outputs": [
    {
     "name": "stdout",
     "output_type": "stream",
     "text": [
      "2\n",
      "4\n",
      "6\n",
      "8\n",
      "10\n"
     ]
    }
   ],
   "source": [
    "# Q3 \n",
    "''' Iterator is something that allows us to iterate or loop certain block of codes. To initialize the iterator object , we use next() function , and we use looping method(GEMERALLY FOR LOOP)  .'''\n",
    "\n",
    "l= [2,4,6,8,10,12,14]\n",
    "l1 = iter(l)\n",
    "def pr(n):\n",
    "    for i in (n):\n",
    "     yield  i\n",
    "         \n",
    "a = pr(l1)\n",
    "print(next(a))\n",
    "print(next(a))\n",
    "print(next(a))\n",
    "print(next(a))\n",
    "print(next(a))"
   ]
  },
  {
   "cell_type": "code",
   "execution_count": 64,
   "id": "c8cbaa28-170c-4f42-8640-5f91f1c106d3",
   "metadata": {},
   "outputs": [
    {
     "name": "stdout",
     "output_type": "stream",
     "text": [
      "0\n",
      "2\n",
      "4\n"
     ]
    }
   ],
   "source": [
    "#Q4 \n",
    "# Generator function is a special type of a function in python. It performs the same functionality with all the objects in a function and returns the value. It has aspecial type of a keywkeyword  called yield . It neither sores the value nor print it.Rather it print the value on demand.\n",
    "def check_even(n):\n",
    " for i in range (n):\n",
    "    if i%2 == 0:\n",
    "        yield i\n",
    "a = check_even(5)\n",
    "print(next(a))\n",
    "print(next(a))\n",
    "print(next(a))\n",
    "\n"
   ]
  },
  {
   "cell_type": "code",
   "execution_count": 33,
   "id": "3027e5e6-ee6d-4850-ac8b-5771e0054d99",
   "metadata": {},
   "outputs": [
    {
     "name": "stdout",
     "output_type": "stream",
     "text": [
      "not prime\n",
      "not prime\n",
      "not prime\n",
      "not prime\n",
      "not prime\n"
     ]
    }
   ],
   "source": [
    "#Q5\n",
    "def check_prime(b):\n",
    "    for i in range (2,10):\n",
    "         if b% i!= 0 :\n",
    "            yield \"not prime\"\n",
    "         \n",
    "a = check_prime(5) \n",
    "print(next(a))\n",
    "n = check_prime(71) \n",
    "print(next(a))\n",
    "c = check_prime(23) \n",
    "print(next(a))\n",
    "o = check_prime(11) \n",
    "print(next(a))\n",
    "m = check_prime(67) \n",
    "print(next(a))\n"
   ]
  },
  {
   "cell_type": "code",
   "execution_count": 3,
   "id": "fc3b6a17-f565-4347-b51a-05782d06e8d7",
   "metadata": {},
   "outputs": [
    {
     "name": "stdout",
     "output_type": "stream",
     "text": [
      "1\n",
      "2\n",
      "4\n",
      "8\n",
      "16\n",
      "32\n",
      "64\n",
      "128\n",
      "256\n",
      "512\n",
      "1024\n"
     ]
    }
   ],
   "source": [
    "#Q6 1 ,2, 3, 5, 8.\n",
    "def fib_series(n):\n",
    "    a = 1\n",
    "    b=1\n",
    "    while n>0:\n",
    "        yield a\n",
    "        b = a + b \n",
    "        a = b\n",
    "x = fib_series(10)\n",
    "print(next(x))\n",
    "print(next(x))\n",
    "print(next(x))\n",
    "print(next(x))\n",
    "print(next(x))\n",
    "print(next(x))\n",
    "print(next(x))\n",
    "print(next(x))\n",
    "print(next(x))\n",
    "print(next(x))\n",
    "print(next(x))"
   ]
  },
  {
   "cell_type": "code",
   "execution_count": 6,
   "id": "7729e229-d1d2-4152-8b38-8d261e145ee9",
   "metadata": {},
   "outputs": [
    {
     "name": "stdout",
     "output_type": "stream",
     "text": [
      "p\n",
      "w\n",
      "s\n",
      "k\n",
      "i\n",
      "l\n",
      "l\n",
      "s\n"
     ]
    }
   ],
   "source": [
    "#Q7\n",
    "l = \"pwskills\"\n",
    "def string(n):\n",
    "    for i in n:\n",
    "        yield i\n",
    "a = string(l)\n",
    "print(next(a))\n",
    "print(next(a))\n",
    "print(next(a))\n",
    "print(next(a))\n",
    "print(next(a))\n",
    "print(next(a))\n",
    "print(next(a))\n",
    "print(next(a))\n",
    "\n",
    "\n"
   ]
  },
  {
   "cell_type": "code",
   "execution_count": 8,
   "id": "fd257646-e19d-4c9b-8c68-c30a261fe436",
   "metadata": {},
   "outputs": [
    {
     "name": "stdout",
     "output_type": "stream",
     "text": [
      "yes it is a palindrome\n",
      "None\n"
     ]
    }
   ],
   "source": [
    "#Q8\n",
    "def check_palindrome (n):\n",
    "    u = n\n",
    "    a = 0\n",
    "    s = 0\n",
    "    while n> 0 :\n",
    "        a= n% 10\n",
    "        s = s*10 + a\n",
    "        n = n//10\n",
    "    if u ==s :\n",
    "        print(\"yes it is a palindrome\")\n",
    "    else:\n",
    "        print(\"no it is not a palindrome\")\n",
    "z = check_palindrome(121)\n",
    "print(z)"
   ]
  },
  {
   "cell_type": "code",
   "execution_count": 53,
   "id": "17012fef-bbf4-4cee-80a4-83e4c4313c8f",
   "metadata": {},
   "outputs": [
    {
     "name": "stdout",
     "output_type": "stream",
     "text": [
      "[11]\n",
      "[11, 3]\n"
     ]
    }
   ],
   "source": [
    "#Q9\n",
    "l = [11,56,3,4]\n",
    "l1 = iter(l)\n",
    "def check_odd(n):\n",
    "    l2 =[]\n",
    "    for i in n:\n",
    "      if i%2!=0:\n",
    "        l2.append(i)\n",
    "        yield l2\n",
    "a =check_odd(l1)\n",
    "print(next(a))\n",
    "print(next(a))\n",
    "\n",
    "            \n",
    "            \n",
    "    "
   ]
  },
  {
   "cell_type": "code",
   "execution_count": null,
   "id": "99f5fa4f-3b8c-4dc5-9b51-c2e19aec3cfb",
   "metadata": {},
   "outputs": [],
   "source": []
  },
  {
   "cell_type": "code",
   "execution_count": null,
   "id": "5e4ffc43-7f5a-44e8-90fa-1b62c4376615",
   "metadata": {},
   "outputs": [],
   "source": []
  }
 ],
 "metadata": {
  "kernelspec": {
   "display_name": "Python 3 (ipykernel)",
   "language": "python",
   "name": "python3"
  },
  "language_info": {
   "codemirror_mode": {
    "name": "ipython",
    "version": 3
   },
   "file_extension": ".py",
   "mimetype": "text/x-python",
   "name": "python",
   "nbconvert_exporter": "python",
   "pygments_lexer": "ipython3",
   "version": "3.10.8"
  }
 },
 "nbformat": 4,
 "nbformat_minor": 5
}
