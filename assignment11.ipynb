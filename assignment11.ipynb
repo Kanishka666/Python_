{
 "cells": [
  {
   "cell_type": "code",
   "execution_count": null,
   "id": "f390466a-3c86-4e91-ac3f-4e5ce625d6da",
   "metadata": {},
   "outputs": [],
   "source": [
    "#Q1\n",
    "''' When multiple processes run across multiple processors or cores is known as Multiprocessing.\n",
    "It is useful as one can execute multiple threads in multiple processors . This will reduce the execution time .'''"
   ]
  },
  {
   "cell_type": "code",
   "execution_count": null,
   "id": "0460bcde-54ff-4ccc-b226-98bf4b7acf4a",
   "metadata": {},
   "outputs": [],
   "source": [
    "#Q2\n",
    "''' Multithreading is a method in which multiple threads are executed in a single core .  In this,  space data memory and resources are shared among the core.\n",
    "while Multiprocessing is a method in which multiple threads are executed in multiple processors or cores . Each thread is executed independently.'''"
   ]
  },
  {
   "cell_type": "code",
   "execution_count": 3,
   "id": "68877208-9b17-41e3-9d3e-29a4ccacd315",
   "metadata": {},
   "outputs": [
    {
     "name": "stdout",
     "output_type": "stream",
     "text": [
      "The square is  1\n",
      "The square is  4\n",
      "The square is  9\n",
      "The square is  16\n",
      "The square is  25\n"
     ]
    }
   ],
   "source": [
    "#Q3\n",
    "import multiprocessing \n",
    "\n",
    "def square_list(mylist):\n",
    "    for num in mylist:\n",
    "        print(\"The square is  {}\" . format(num*num))\n",
    "    \n",
    "if __name__ == '__main__':\n",
    "    mylist = [1,2,3,4,5]\n",
    "    \n",
    "    p1 = multiprocessing.Process(target = square_list , args = (mylist,))\n",
    "    \n",
    "    p1.start()\n",
    "    p1.join()"
   ]
  },
  {
   "cell_type": "code",
   "execution_count": 5,
   "id": "fb204ca1-d042-458c-9efe-8dda6cc533bd",
   "metadata": {},
   "outputs": [
    {
     "name": "stdout",
     "output_type": "stream",
     "text": [
      "[1, 4, 9, 16]\n"
     ]
    }
   ],
   "source": [
    "#Q4\n",
    "\n",
    "import multiprocessing\n",
    "try:\n",
    "    def square_list(num):\n",
    "            return num*num\n",
    "except Exception as e:\n",
    "    print(e)\n",
    "if __name__=='__main__':\n",
    "     \n",
    "    try:\n",
    "        with multiprocessing.Pool(processes = 1)as pool:\n",
    "            result = pool.map(square_list , [1,2,3,4] )\n",
    "            print(result)\n",
    "    except Exception as e:\n",
    "            print(e)\n"
   ]
  },
  {
   "cell_type": "code",
   "execution_count": 11,
   "id": "3f65160b-4f57-403d-aa7c-e99c37636294",
   "metadata": {},
   "outputs": [
    {
     "name": "stdout",
     "output_type": "stream",
     "text": [
      "['This is my function']\n"
     ]
    }
   ],
   "source": [
    "#Q5\n",
    " \n",
    "import multiprocessing\n",
    "try:\n",
    "    def worker(n):\n",
    "        for i in range(n):\n",
    "            return \"This is my function\"\n",
    "except Exception as e:\n",
    "    print(e)\n",
    "if __name__=='__main__':\n",
    "     \n",
    "    try:\n",
    "        with multiprocessing.Pool(processes = 1)as pool:\n",
    "            result = pool.map(worker ,[1])\n",
    "            print(result)\n",
    "    except Exception as e:\n",
    "            print(e)\n",
    "\n"
   ]
  },
  {
   "cell_type": "code",
   "execution_count": 14,
   "id": "c86457d3-95aa-4704-bf73-fdc7b873ac10",
   "metadata": {},
   "outputs": [
    {
     "name": "stdout",
     "output_type": "stream",
     "text": [
      "[1, 2, 3, 4, 5]\n"
     ]
    }
   ],
   "source": [
    "#Q6\n",
    "\n",
    "import multiprocessing\n",
    "try:\n",
    "    def print_num(n):\n",
    "            return n\n",
    "except Exception as e:\n",
    "    print(e)\n",
    "if __name__=='__main__':\n",
    "     \n",
    "    try:\n",
    "        with multiprocessing.Pool(processes = 4)as pool:\n",
    "            result = pool.map(print_num ,[1,2,3,4,5])\n",
    "            print(result)\n",
    "    except Exception as e:\n",
    "            print(e)\n",
    "            \n"
   ]
  }
 ],
 "metadata": {
  "kernelspec": {
   "display_name": "Python 3 (ipykernel)",
   "language": "python",
   "name": "python3"
  },
  "language_info": {
   "codemirror_mode": {
    "name": "ipython",
    "version": 3
   },
   "file_extension": ".py",
   "mimetype": "text/x-python",
   "name": "python",
   "nbconvert_exporter": "python",
   "pygments_lexer": "ipython3",
   "version": "3.10.8"
  }
 },
 "nbformat": 4,
 "nbformat_minor": 5
}
