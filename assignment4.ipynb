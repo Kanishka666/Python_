{
 "cells": [
  {
   "cell_type": "code",
   "execution_count": 14,
   "id": "b5942a01-54ba-4e40-9129-1248dad9c337",
   "metadata": {},
   "outputs": [
    {
     "data": {
      "text/plain": [
       "[34357, 27483, 25534, 24936]"
      ]
     },
     "execution_count": 14,
     "metadata": {},
     "output_type": "execute_result"
    }
   ],
   "source": [
    "#Q1\n",
    "l=[(\"Sachin Tendulkar\",34357),('Ricky pointing',27483),('Jack kallis', 25534),('Virat kholi',24936)]\n",
    "l2=[ 34357 ,\"Sachin Tendulkar\",'Ricky pointing',27483,'Jack kallis', 25534,'Virat kholi',24936]\n",
    "list(filter(lambda  x : type(x)==int, l2))\n"
   ]
  },
  {
   "cell_type": "code",
   "execution_count": 6,
   "id": "6b8a252b-42ff-47e7-b276-2a488af74c1b",
   "metadata": {},
   "outputs": [
    {
     "data": {
      "text/plain": [
       "[1, 4, 9, 16, 25, 36, 49, 64, 81, 100]"
      ]
     },
     "execution_count": 6,
     "metadata": {},
     "output_type": "execute_result"
    }
   ],
   "source": [
    "#Q2\n",
    "l= [1,2,3,4,5,6,7,8,9,10]\n",
    "list(map(lambda x: x**2,l))\n"
   ]
  },
  {
   "cell_type": "code",
   "execution_count": 7,
   "id": "3c888cdd-4bcd-4270-8d98-d5cda1061899",
   "metadata": {},
   "outputs": [
    {
     "data": {
      "text/plain": [
       "('1', '2', '3', '4', '5', '6', '7', '8', '9', '10')"
      ]
     },
     "execution_count": 7,
     "metadata": {},
     "output_type": "execute_result"
    }
   ],
   "source": [
    "#Q3\n",
    "l= [1,2,3,4,5,6,7,8,9,10]\n",
    "tuple(map(lambda x : str(x) , l ))\n",
    "\n"
   ]
  },
  {
   "cell_type": "code",
   "execution_count": 8,
   "id": "972f0a96-89cc-4ad6-ab4e-795148acf477",
   "metadata": {},
   "outputs": [
    {
     "data": {
      "text/plain": [
       "15511210043330985984000000"
      ]
     },
     "execution_count": 8,
     "metadata": {},
     "output_type": "execute_result"
    }
   ],
   "source": [
    "#Q4\n",
    "from functools import reduce\n",
    "l=[1,2,3,4,5,6,7,8,9,10,11,12,13,14,15,16,17,18,19,20,21,22,23,24,25]\n",
    "reduce (lambda x , y: x*y ,l)"
   ]
  },
  {
   "cell_type": "code",
   "execution_count": 9,
   "id": "704a083c-5ed4-450f-a04d-057eecd69ddf",
   "metadata": {},
   "outputs": [
    {
     "data": {
      "text/plain": [
       "[6, 60, 90, 120]"
      ]
     },
     "execution_count": 9,
     "metadata": {},
     "output_type": "execute_result"
    }
   ],
   "source": [
    "#Q5\n",
    "l = [2,3,6,9,27,60,90,120,55,46]\n",
    "list(filter(lambda x: x % 2==0 and x% 3==0,l))"
   ]
  },
  {
   "cell_type": "code",
   "execution_count": 10,
   "id": "81a199ad-1685-4e3d-ac2e-e8044f6e5048",
   "metadata": {},
   "outputs": [
    {
     "data": {
      "text/plain": [
       "['php', 'aba', 'radar', 'level']"
      ]
     },
     "execution_count": 10,
     "metadata": {},
     "output_type": "execute_result"
    }
   ],
   "source": [
    "#Q6\n",
    "l= ['python' , 'php', 'aba', 'radar' ,'level']\n",
    "list(filter(lambda x : x == x[::-1],l))"
   ]
  },
  {
   "cell_type": "code",
   "execution_count": null,
   "id": "71b9c9bf-d831-4ccc-86d8-8cf487fbe8f7",
   "metadata": {},
   "outputs": [],
   "source": []
  },
  {
   "cell_type": "code",
   "execution_count": null,
   "id": "2fb2f6c8-4292-448f-9c56-0d0e4e526b22",
   "metadata": {},
   "outputs": [],
   "source": []
  },
  {
   "cell_type": "code",
   "execution_count": null,
   "id": "ae430e8e-5e72-44aa-8936-d455f121103c",
   "metadata": {},
   "outputs": [],
   "source": []
  }
 ],
 "metadata": {
  "kernelspec": {
   "display_name": "Python 3 (ipykernel)",
   "language": "python",
   "name": "python3"
  },
  "language_info": {
   "codemirror_mode": {
    "name": "ipython",
    "version": 3
   },
   "file_extension": ".py",
   "mimetype": "text/x-python",
   "name": "python",
   "nbconvert_exporter": "python",
   "pygments_lexer": "ipython3",
   "version": "3.10.8"
  }
 },
 "nbformat": 4,
 "nbformat_minor": 5
}
