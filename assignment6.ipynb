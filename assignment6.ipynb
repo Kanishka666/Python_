{
 "cells": [
  {
   "cell_type": "code",
   "execution_count": 3,
   "id": "0383f550-1bf7-4b7b-b218-dc4298b19de3",
   "metadata": {},
   "outputs": [
    {
     "name": "stdout",
     "output_type": "stream",
     "text": [
      "This is class \n"
     ]
    }
   ],
   "source": [
    "#Q1\n",
    "#Class :- It basically refers to the classification of code.It is a buleprint for the code .\n",
    "#object:- It is the variable of the class.\n",
    "\n",
    "#eg\n",
    "\n",
    "\n",
    "class show:                    # here show is a class\n",
    "    def test(self):\n",
    "        print(\"This is class \")\n",
    "    \n",
    "obj = show()           #here  obj  is the object or variable \n",
    "obj.test()"
   ]
  },
  {
   "cell_type": "code",
   "execution_count": null,
   "id": "a3ccf906-217e-4866-9d37-6ab966d4e7c0",
   "metadata": {},
   "outputs": [],
   "source": [
    "#Q2\n",
    "# Four pillars of oops are:\n",
    "#1)polymorphism \n",
    "#2)encapsulation\n",
    "#3)classmethod\n",
    "#4)staticmethod"
   ]
  },
  {
   "cell_type": "code",
   "execution_count": 6,
   "id": "0df953c2-5571-4699-a382-a2165cb22815",
   "metadata": {},
   "outputs": [
    {
     "data": {
      "text/plain": [
       "'Kanishka'"
      ]
     },
     "execution_count": 6,
     "metadata": {},
     "output_type": "execute_result"
    }
   ],
   "source": [
    "#Q3\n",
    "#__init__ () function is a dundler.It is generally used to get the parameters from the user.\n",
    "\n",
    "#eg\n",
    "\n",
    "class show1:\n",
    "    def __init__(self , name):\n",
    "        self.name=name\n",
    "       \n",
    "    def name(self):\n",
    "        return self.name\n",
    "    \n",
    "obj2 = show1(\"Kanishka\")\n",
    "obj2.name"
   ]
  },
  {
   "cell_type": "code",
   "execution_count": null,
   "id": "fdba2e60-aadb-4fb2-9e80-cf0f8eb4695c",
   "metadata": {},
   "outputs": [],
   "source": [
    "#Q4\n",
    "# self act as pointer for the class . It links the class variables, function with class.\n",
    "\n",
    "#eg\n",
    "\n",
    "'''class show1:\n",
    "    def __init__(self , name):\n",
    "        self.name=name\n",
    "       \n",
    "    def name(self):\n",
    "        return self.name'''\n"
   ]
  },
  {
   "cell_type": "code",
   "execution_count": 10,
   "id": "6404dd22-a1e6-4758-a8ab-dd70f8f63397",
   "metadata": {},
   "outputs": [
    {
     "name": "stdout",
     "output_type": "stream",
     "text": [
      "This is mycheck3\n",
      "This is my check1\n",
      "This is mycheck2\n"
     ]
    }
   ],
   "source": [
    "#Q5\n",
    "# Inheritance in python refers to the inheriting of the blueprint of one class to another class or from multiple classes to one class.\n",
    "# types\n",
    "# multilable inheritance:-\n",
    "\n",
    "class show2:\n",
    "    \n",
    "    def check1(self):\n",
    "        print(\"This is my check1\")\n",
    "class show3(show2):\n",
    "    def check2(self):\n",
    "         print(\"This is mycheck2\")\n",
    "class show4(show3):\n",
    "    def check3(self):\n",
    "         print(\"This is mycheck3\")\n",
    "            \n",
    "a = show4()\n",
    "a.check3()\n",
    "a.check1()\n",
    "a.check2()"
   ]
  },
  {
   "cell_type": "code",
   "execution_count": 14,
   "id": "ce92dfdf-6b46-48d8-9aea-0baef156c987",
   "metadata": {},
   "outputs": [
    {
     "name": "stdout",
     "output_type": "stream",
     "text": [
      "This is mycheck2\n",
      "This is mycheck3\n",
      "This is my check1\n"
     ]
    }
   ],
   "source": [
    "#multiple inheritance\n",
    "class show2:\n",
    "    def check1(self):\n",
    "        print(\"This is my check1\")\n",
    "class show3():\n",
    "    def check2(self):\n",
    "         print(\"This is mycheck2\")\n",
    "class show4(show2 , show3):\n",
    "    def check3(self):\n",
    "         print(\"This is mycheck3\")\n",
    "            \n",
    "            \n",
    "b = show4()\n",
    "b.check2()\n",
    "b.check3()\n",
    "b.check1()"
   ]
  },
  {
   "cell_type": "code",
   "execution_count": null,
   "id": "c081acb4-1e73-4e7b-a2e5-2620a1c0100f",
   "metadata": {},
   "outputs": [],
   "source": []
  }
 ],
 "metadata": {
  "kernelspec": {
   "display_name": "Python 3 (ipykernel)",
   "language": "python",
   "name": "python3"
  },
  "language_info": {
   "codemirror_mode": {
    "name": "ipython",
    "version": 3
   },
   "file_extension": ".py",
   "mimetype": "text/x-python",
   "name": "python",
   "nbconvert_exporter": "python",
   "pygments_lexer": "ipython3",
   "version": "3.10.8"
  }
 },
 "nbformat": 4,
 "nbformat_minor": 5
}
